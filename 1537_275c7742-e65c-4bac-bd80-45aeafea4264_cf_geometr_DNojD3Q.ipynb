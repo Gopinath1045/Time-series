{
 "cells": [
  {
   "cell_type": "code",
   "execution_count": 20,
   "id": "e2060b98",
   "metadata": {},
   "outputs": [],
   "source": [
    "import gc\n",
    "gc.enable()\n",
    "\n",
    "import time\n",
    "import warnings\n",
    "warnings.filterwarnings(\"ignore\")\n",
    "import matplotlib.pyplot as plt\n",
    "plt.style.use('ggplot')\n",
    "# plt.rcParams['figure.figsize']=[6,3]\n",
    "# plt.rcParams['figure.dpi']=80\n",
    "from tqdm import tqdm_notebook as tqdm\n",
    "import os\n",
    "import pandas as pd \n",
    "import numpy as np\n",
    "import seaborn as sns\n",
    "\n",
    "pd.set_option(\"display.max_columns\", None)\n",
    "pd.set_option(\"display.max_rows\", None)\n",
    "\n",
    "#Convert infinite value to NULL\n",
    "pd.options.mode.use_inf_as_na = True\n",
    "# [var for var in data if data[var] is np.isinf]\n",
    "\n",
    "from IPython.display import display\n",
    "import matplotlib.pyplot as plt3\n",
    "\n",
    "import holidays \n",
    "from sklearn.ensemble import RandomForestRegressor, StackingRegressor, VotingRegressor\n",
    "from xgboost import XGBRegressor\n",
    "from sklearn.metrics import mean_squared_error\n",
    "from lightgbm import LGBMRegressor\n",
    "from catboost import CatBoostRegressor"
   ]
  },
  {
   "cell_type": "code",
   "execution_count": 21,
   "id": "e03e1461",
   "metadata": {},
   "outputs": [],
   "source": [
    "def holiday_name(x):\n",
    "    # Cheking whether given data is a holiday\n",
    "    India_holidays_list = holidays.India()\n",
    "    if x in India_holidays_list:\n",
    "        return India_holidays_list.get(x)\n",
    "    else:\n",
    "        return 'No_Holiday'\n",
    "    \n",
    "def isholiday(x):\n",
    "    # Cheking whether given data is a holiday\n",
    "    India_holidays_list = holidays.India()\n",
    "    if x in India_holidays_list:\n",
    "        return 1\n",
    "    else:\n",
    "        return 0"
   ]
  },
  {
   "cell_type": "code",
   "execution_count": 22,
   "id": "948ebe00",
   "metadata": {},
   "outputs": [],
   "source": [
    "train = pd.read_csv(\"train_E1GspfA.csv\")\n",
    "# train['holiday_name'] = train['date'].apply(holiday)\n",
    "# train['IsHoliday'] = train['date'].apply(isholiday)\n",
    "# # train.set_index('date', inplace=True)\n",
    "# train.head(1000)"
   ]
  },
  {
   "cell_type": "code",
   "execution_count": 23,
   "id": "47085f54",
   "metadata": {},
   "outputs": [],
   "source": [
    "test = pd.read_csv(\"test_6QvDdzb.csv\")\n",
    "# test['holiday_name'] = test['date'].apply(holiday)\n",
    "# test['IsHoliday'] = test['date'].apply(isholiday)\n",
    "# test.head(100)"
   ]
  },
  {
   "cell_type": "code",
   "execution_count": 24,
   "id": "430f7d67",
   "metadata": {},
   "outputs": [],
   "source": [
    "# import time\n",
    "# def datetounix(df):\n",
    "#     # Initialising unixtime list\n",
    "#     unixtime = []\n",
    "#     df.date = pd.to_datetime(df.date, dayfirst = True)\n",
    "#     # data.WeekEnding_Date = pd.to_datetime(data.WeekEnding_Date, format=\"%Y-%m-%d\", errors=\"coerce\")\n",
    "\n",
    "#     # Check if the conversion is successful\n",
    "#     assert df.date.dtype == \"datetime64[ns]\"\n",
    "#     # Running a loop for converting Date to seconds\n",
    "#     for date in df['date']:\n",
    "#         unixtime.append(time.mktime(date.timetuple()))\n",
    "    \n",
    "#     # Replacing Date with unixtime list\n",
    "#     df['date_unix'] = unixtime\n",
    "#     return(df)\n",
    "# train=datetounix(train)\n",
    "# test = datetounix(test)\n",
    "# train.head()"
   ]
  },
  {
   "cell_type": "code",
   "execution_count": 25,
   "id": "62416a64",
   "metadata": {},
   "outputs": [
    {
     "name": "stdout",
     "output_type": "stream",
     "text": [
      "(18247, 3) (7650, 3) (25897, 3)\n"
     ]
    }
   ],
   "source": [
    "test['demand'] = np.nan\n",
    "df = pd.concat([train, test])\n",
    "df.reset_index(drop=True, inplace=True)\n",
    "print(train.shape, test.shape, df.shape)\n",
    "\n",
    "# #freq encoding\n",
    "# col = 'holiday_name'\n",
    "# enc_nom_1 = (df.groupby(col).size()) / len(df)\n",
    "# df['holiday_name'] = df[col].apply(lambda x : enc_nom_1[x])\n",
    "\n",
    "# #freq encoding\n",
    "# col = 'hour'\n",
    "# enc_nom_1 = (df.groupby(col).size()) / len(df)\n",
    "# df['hour'] = df[col].apply(lambda x : enc_nom_1[x])\n",
    "\n",
    "target   = 'demand'\n",
    "train = df[df[target].isnull()!=True]\n",
    "test  = df[df[target].isnull()==True]\n",
    "test.drop(target, axis=1, inplace=True)\n",
    "\n",
    "train.set_index('date', inplace=True)\n",
    "test.set_index('date', inplace=True)"
   ]
  },
  {
   "cell_type": "code",
   "execution_count": 26,
   "id": "82ecdeb6",
   "metadata": {},
   "outputs": [],
   "source": [
    "pjme = train.copy()\n",
    "split_date = '2020-11-01'\n",
    "# split_date = '2020-02-01'\n",
    "pjme_train = pjme.loc[pjme.index <= split_date].copy()\n",
    "pjme_test = pjme.loc[pjme.index > split_date].copy()"
   ]
  },
  {
   "cell_type": "code",
   "execution_count": 27,
   "id": "38a48f41",
   "metadata": {},
   "outputs": [],
   "source": [
    "# # sns.distplot(train['hour'])\n",
    "# from sklearn.preprocessing import KBinsDiscretizer\n",
    "# def kbindicretizer(train_data, test_data= None, n_bins = None):\n",
    "#     discrete1 = KBinsDiscretizer(n_bins=n_bins, encode='ordinal', strategy='kmeans')\n",
    "#     disc = discrete1.fit(pd.DataFrame({'hour': train_data['hour']}))\n",
    "#     print('Edges: {}'.format(disc.bin_edges_))\n",
    "#     train_data['age_disc_kmeans'] = disc.transform(pd.DataFrame({'age': train_data['age']}))\n",
    "#     return train_data\n",
    "# # concat = kbindicretizer(concat, n_bins=6)\n",
    "# # concat.head()"
   ]
  },
  {
   "cell_type": "code",
   "execution_count": 28,
   "id": "146cf4b1",
   "metadata": {},
   "outputs": [],
   "source": [
    "def create_features(df, date, label=None):\n",
    "    #df['year'] = pd.DatetimeIndex(df[date]).year # == As Year And Seasons Are Same\n",
    "    df['date'] = df.index\n",
    "    df['date'] = pd.to_datetime(df['date'])\n",
    "    df['year'] = df['date'].dt.year\n",
    "    df['month'] = pd.DatetimeIndex(df[date]).month\n",
    "    df['day'] = pd.DatetimeIndex(df[date]).day\n",
    "    df['day_of_year'] = pd.DatetimeIndex(df[date]).dayofyear\n",
    "    df['week_of_year'] = pd.DatetimeIndex(df[date]).weekofyear\n",
    "    df['quarter'] = pd.DatetimeIndex(df[date]).quarter\n",
    "    df['seasons'] = df['month'] % 12 // 3 + 1\n",
    "    df['weekday'] = pd.DatetimeIndex(df[date]).dayofweek\n",
    "    #     df['is_month_start'] = pd.DatetimeIndex(df[date]).is_month_start\n",
    "    #     df['is_month_end'] = pd.DatetimeIndex(df[date]).is_month_end\n",
    "    #     df['is_quarter_start'] = pd.DatetimeIndex(df[date]).is_quarter_start\n",
    "    #     df['is_quarter_end'] = pd.DatetimeIndex(df[date]).is_quarter_end\n",
    "    #     df['is_year_start'] = pd.DatetimeIndex(df[date]).is_year_start\n",
    "    #     df['is_year_end'] = pd.DatetimeIndex(df[date]).is_year_end\n",
    "    #     df['is_leap_year'] = pd.DatetimeIndex(df[date]).is_leap_year\n",
    "    \n",
    "    # Cyclical encoding for day:\n",
    "    df['day_sin'] = np.sin(2 * np.pi * df['day']/7.0)\n",
    "    df['day_cos'] = np.cos(2 * np.pi * df['day']/7.0)\n",
    "\n",
    "    # Cyclical encoding for month:\n",
    "    df['month_sin'] = np.sin(2 * np.pi * df['month']/12.0)\n",
    "    df['month_cos'] = np.cos(2 * np.pi * df['month']/12.0)    \n",
    "    #df.drop(['year'], inplace=True, axis=1)\n",
    "    #df['year'] = df['year'].astype('O')\n",
    "    #df['day_ratio'] = df['day']/df['day']\n",
    "    \n",
    "    for var in df.select_dtypes('boolean').columns:\n",
    "        mapper = {j: i for i, j in enumerate(df[var].unique().tolist(), 0)}\n",
    "        df[var] = df[var].map(mapper)\n",
    "        \n",
    "    if label:\n",
    "        y = df[label]\n",
    "        df.drop(['date', 'demand'], inplace=True, axis=1)\n",
    "        return df, y\n",
    "    df.drop(['date'], inplace=True, axis=1)\n",
    "    return df"
   ]
  },
  {
   "cell_type": "code",
   "execution_count": 29,
   "id": "02dae37c",
   "metadata": {},
   "outputs": [],
   "source": [
    "X_train, y_train = create_features(pjme_train, 'date', label='demand')\n",
    "X_test, y_test = create_features(pjme_test, 'date', label='demand')"
   ]
  },
  {
   "cell_type": "code",
   "execution_count": 30,
   "id": "821d67f7",
   "metadata": {},
   "outputs": [
    {
     "data": {
      "text/html": [
       "<div>\n",
       "<style scoped>\n",
       "    .dataframe tbody tr th:only-of-type {\n",
       "        vertical-align: middle;\n",
       "    }\n",
       "\n",
       "    .dataframe tbody tr th {\n",
       "        vertical-align: top;\n",
       "    }\n",
       "\n",
       "    .dataframe thead th {\n",
       "        text-align: right;\n",
       "    }\n",
       "</style>\n",
       "<table border=\"1\" class=\"dataframe\">\n",
       "  <thead>\n",
       "    <tr style=\"text-align: right;\">\n",
       "      <th></th>\n",
       "      <th>hour</th>\n",
       "      <th>year</th>\n",
       "      <th>month</th>\n",
       "      <th>day</th>\n",
       "      <th>day_of_year</th>\n",
       "      <th>week_of_year</th>\n",
       "      <th>quarter</th>\n",
       "      <th>seasons</th>\n",
       "      <th>weekday</th>\n",
       "      <th>day_sin</th>\n",
       "      <th>day_cos</th>\n",
       "      <th>month_sin</th>\n",
       "      <th>month_cos</th>\n",
       "    </tr>\n",
       "    <tr>\n",
       "      <th>date</th>\n",
       "      <th></th>\n",
       "      <th></th>\n",
       "      <th></th>\n",
       "      <th></th>\n",
       "      <th></th>\n",
       "      <th></th>\n",
       "      <th></th>\n",
       "      <th></th>\n",
       "      <th></th>\n",
       "      <th></th>\n",
       "      <th></th>\n",
       "      <th></th>\n",
       "      <th></th>\n",
       "    </tr>\n",
       "  </thead>\n",
       "  <tbody>\n",
       "    <tr>\n",
       "      <th>2018-08-18</th>\n",
       "      <td>9</td>\n",
       "      <td>2018</td>\n",
       "      <td>8</td>\n",
       "      <td>18</td>\n",
       "      <td>230</td>\n",
       "      <td>33</td>\n",
       "      <td>3</td>\n",
       "      <td>3</td>\n",
       "      <td>5</td>\n",
       "      <td>-0.433884</td>\n",
       "      <td>-0.900969</td>\n",
       "      <td>-0.866025</td>\n",
       "      <td>-0.5</td>\n",
       "    </tr>\n",
       "    <tr>\n",
       "      <th>2018-08-18</th>\n",
       "      <td>10</td>\n",
       "      <td>2018</td>\n",
       "      <td>8</td>\n",
       "      <td>18</td>\n",
       "      <td>230</td>\n",
       "      <td>33</td>\n",
       "      <td>3</td>\n",
       "      <td>3</td>\n",
       "      <td>5</td>\n",
       "      <td>-0.433884</td>\n",
       "      <td>-0.900969</td>\n",
       "      <td>-0.866025</td>\n",
       "      <td>-0.5</td>\n",
       "    </tr>\n",
       "    <tr>\n",
       "      <th>2018-08-18</th>\n",
       "      <td>13</td>\n",
       "      <td>2018</td>\n",
       "      <td>8</td>\n",
       "      <td>18</td>\n",
       "      <td>230</td>\n",
       "      <td>33</td>\n",
       "      <td>3</td>\n",
       "      <td>3</td>\n",
       "      <td>5</td>\n",
       "      <td>-0.433884</td>\n",
       "      <td>-0.900969</td>\n",
       "      <td>-0.866025</td>\n",
       "      <td>-0.5</td>\n",
       "    </tr>\n",
       "    <tr>\n",
       "      <th>2018-08-18</th>\n",
       "      <td>14</td>\n",
       "      <td>2018</td>\n",
       "      <td>8</td>\n",
       "      <td>18</td>\n",
       "      <td>230</td>\n",
       "      <td>33</td>\n",
       "      <td>3</td>\n",
       "      <td>3</td>\n",
       "      <td>5</td>\n",
       "      <td>-0.433884</td>\n",
       "      <td>-0.900969</td>\n",
       "      <td>-0.866025</td>\n",
       "      <td>-0.5</td>\n",
       "    </tr>\n",
       "    <tr>\n",
       "      <th>2018-08-18</th>\n",
       "      <td>15</td>\n",
       "      <td>2018</td>\n",
       "      <td>8</td>\n",
       "      <td>18</td>\n",
       "      <td>230</td>\n",
       "      <td>33</td>\n",
       "      <td>3</td>\n",
       "      <td>3</td>\n",
       "      <td>5</td>\n",
       "      <td>-0.433884</td>\n",
       "      <td>-0.900969</td>\n",
       "      <td>-0.866025</td>\n",
       "      <td>-0.5</td>\n",
       "    </tr>\n",
       "  </tbody>\n",
       "</table>\n",
       "</div>"
      ],
      "text/plain": [
       "            hour  year  month  day  day_of_year  week_of_year  quarter  \\\n",
       "date                                                                     \n",
       "2018-08-18     9  2018      8   18          230            33        3   \n",
       "2018-08-18    10  2018      8   18          230            33        3   \n",
       "2018-08-18    13  2018      8   18          230            33        3   \n",
       "2018-08-18    14  2018      8   18          230            33        3   \n",
       "2018-08-18    15  2018      8   18          230            33        3   \n",
       "\n",
       "            seasons  weekday   day_sin   day_cos  month_sin  month_cos  \n",
       "date                                                                    \n",
       "2018-08-18        3        5 -0.433884 -0.900969  -0.866025       -0.5  \n",
       "2018-08-18        3        5 -0.433884 -0.900969  -0.866025       -0.5  \n",
       "2018-08-18        3        5 -0.433884 -0.900969  -0.866025       -0.5  \n",
       "2018-08-18        3        5 -0.433884 -0.900969  -0.866025       -0.5  \n",
       "2018-08-18        3        5 -0.433884 -0.900969  -0.866025       -0.5  "
      ]
     },
     "execution_count": 30,
     "metadata": {},
     "output_type": "execute_result"
    }
   ],
   "source": [
    "X_train.head()"
   ]
  },
  {
   "cell_type": "code",
   "execution_count": 31,
   "id": "6d4f610d",
   "metadata": {},
   "outputs": [
    {
     "name": "stdout",
     "output_type": "stream",
     "text": [
      "R : 29.617482100308116\n",
      "R : 34.121205388705185\n"
     ]
    },
    {
     "data": {
      "text/plain": [
       "<AxesSubplot:>"
      ]
     },
     "execution_count": 31,
     "metadata": {},
     "output_type": "execute_result"
    },
    {
     "data": {
      "image/png": "[encoded data removed]",
      "text/plain": [
       "<Figure size 1080x432 with 1 Axes>"
      ]
     },
     "metadata": {},
     "output_type": "display_data"
    }
   ],
   "source": [
    "# X, y = create_features(pjme, 'date', label='demand')\n",
    "X = pd.concat([X_train, X_test])\n",
    "y = pd.concat([y_train, y_test])\n",
    "from lightgbm import LGBMRegressor\n",
    "from sklearn.metrics import mean_squared_error\n",
    "# param_lgbm = {'device': 'cpu',\n",
    "#               'metric': 'mse', \n",
    "#               'boosting_type': 'gbdt', 'num_leaves': 740, 'max_depth': 121, 'learning_rate': 0.9667145579408727, 'n_estimators': 472, 'min_child_weight': 0.01, 'min_child_samples': 5, 'colsample_bytree': 0.6808372313587183, 'feature_fraction': 0.6653479701653351, 'bagging_fraction': 0.799105429993653, 'bagging_freq': 7, 'lambda_l1': 1.2463829770341894e-06, 'lambda_l2': 4.059084549930808e-05, 'random_state': 78}\n",
    "# model = LGBMRegressor(**param_lgbm,n_jobs= 11) \n",
    "# model.fit(X_train, y_train, eval_set = [(X_train, y_train),(X_test, y_test)], eval_names = ['train', 'valid'],\n",
    "#                   eval_metric='mse', early_stopping_rounds = 100, verbose = 100)\n",
    "# model.fit(X, y, eval_set = [(X_train, y_train),(X_test, y_test)], eval_names = ['train', 'valid'],\n",
    "#                   eval_metric='mse', \n",
    "#               early_stopping_rounds = 100, verbose = 100)\n",
    "model = LGBMRegressor(n_jobs= 11) \n",
    "model.fit(X_train,y_train)\n",
    "y_pred = model.predict(X_train)\n",
    "rmse_result = np.sqrt(mean_squared_error(y_train,y_pred))\n",
    "print('R : {}'.format(rmse_result))\n",
    "\n",
    "y_pred = model.predict(X_test)\n",
    "rmse_result = np.sqrt(mean_squared_error(y_test, y_pred))\n",
    "print('R : {}'.format(rmse_result))\n",
    "\n",
    "#error.append(rmse_result)\n",
    "feat_imp = pd.Series(model.feature_importances_, index=X_train.columns)\n",
    "feat_imp.nlargest(60).plot(kind='bar', figsize=(15,6))"
   ]
  },
  {
   "cell_type": "code",
   "execution_count": 32,
   "id": "9066a247",
   "metadata": {},
   "outputs": [],
   "source": [
    "##test\n",
    "test_t = create_features(test, 'date')\n",
    "test_df = model.predict(test_t)\n",
    "\n",
    "test = pd.read_csv(\"test_6QvDdzb.csv\")\n",
    "# test.head()\n",
    "sub = pd.DataFrame()\n",
    "sub = test[['date', 'hour']]\n",
    "sub['demand'] = test_df#p.round(np.expm1(np.maximum(reg.predict(test_t), 0.0)))\n",
    "sub.to_csv(f\"Submission_L{time.strftime('%Y%m%d_%H%M')}.csv\", index=False)"
   ]
  },
  {
   "cell_type": "code",
   "execution_count": 33,
   "id": "8b419929",
   "metadata": {},
   "outputs": [
    {
     "data": {
      "text/html": [
       "<div>\n",
       "<style scoped>\n",
       "    .dataframe tbody tr th:only-of-type {\n",
       "        vertical-align: middle;\n",
       "    }\n",
       "\n",
       "    .dataframe tbody tr th {\n",
       "        vertical-align: top;\n",
       "    }\n",
       "\n",
       "    .dataframe thead th {\n",
       "        text-align: right;\n",
       "    }\n",
       "</style>\n",
       "<table border=\"1\" class=\"dataframe\">\n",
       "  <thead>\n",
       "    <tr style=\"text-align: right;\">\n",
       "      <th></th>\n",
       "      <th>date</th>\n",
       "      <th>hour</th>\n",
       "      <th>demand</th>\n",
       "    </tr>\n",
       "  </thead>\n",
       "  <tbody>\n",
       "    <tr>\n",
       "      <th>0</th>\n",
       "      <td>2021-03-01</td>\n",
       "      <td>0</td>\n",
       "      <td>56.546609</td>\n",
       "    </tr>\n",
       "    <tr>\n",
       "      <th>1</th>\n",
       "      <td>2021-03-01</td>\n",
       "      <td>1</td>\n",
       "      <td>55.308932</td>\n",
       "    </tr>\n",
       "    <tr>\n",
       "      <th>2</th>\n",
       "      <td>2021-03-01</td>\n",
       "      <td>2</td>\n",
       "      <td>55.308932</td>\n",
       "    </tr>\n",
       "    <tr>\n",
       "      <th>3</th>\n",
       "      <td>2021-03-01</td>\n",
       "      <td>3</td>\n",
       "      <td>54.969940</td>\n",
       "    </tr>\n",
       "    <tr>\n",
       "      <th>4</th>\n",
       "      <td>2021-03-01</td>\n",
       "      <td>5</td>\n",
       "      <td>55.208121</td>\n",
       "    </tr>\n",
       "  </tbody>\n",
       "</table>\n",
       "</div>"
      ],
      "text/plain": [
       "         date  hour     demand\n",
       "0  2021-03-01     0  56.546609\n",
       "1  2021-03-01     1  55.308932\n",
       "2  2021-03-01     2  55.308932\n",
       "3  2021-03-01     3  54.969940\n",
       "4  2021-03-01     5  55.208121"
      ]
     },
     "execution_count": 33,
     "metadata": {},
     "output_type": "execute_result"
    }
   ],
   "source": [
    "sub.head()"
   ]
  },
  {
   "cell_type": "code",
   "execution_count": 26,
   "id": "d71019d1",
   "metadata": {},
   "outputs": [
    {
     "data": {
      "application/vnd.jupyter.widget-view+json": {
       "model_id": "e521e96f0dc8469aa779890803de4988",
       "version_major": 2,
       "version_minor": 0
      },
      "text/plain": [
       "MetricVisualizer(layout=Layout(align_self='stretch', height='500px'))"
      ]
     },
     "metadata": {},
     "output_type": "display_data"
    },
    {
     "name": "stdout",
     "output_type": "stream",
     "text": [
      "31.032849358051973\n",
      "34.437961947460266\n"
     ]
    }
   ],
   "source": [
    "from catboost import CatBoostRegressor\n",
    "X = pd.concat([X_train, X_test])\n",
    "y = pd.concat([y_train, y_test])\n",
    "cbst_par = {'depth': 8, 'learning_rate': 0.16681109764986363, 'max_bin': 208, 'min_data_in_leaf': 154, \n",
    "            'l2_leaf_reg': 0.0004109366557801251, 'bagging_temperature': 4.102428660699969, \n",
    "            'grow_policy': 'SymmetricTree', 'leaf_estimation_method': 'Newton', 'random_state': 309}\n",
    "reg = CatBoostRegressor(random_seed=42, iterations = 5000)\n",
    "# reg.fit(X_train, y_train, plot=True,\n",
    "#         eval_set=[(X_train, y_train), (X_test, y_test)], #eval_metric='RMSE',\n",
    "#         early_stopping_rounds=50, verbose=False)\n",
    "# reg = CatBoostRegressor(**cbst_par)\n",
    "reg.fit(X_train, y_train, plot=True,\n",
    "        eval_set=[(X_train, y_train), (X_test, y_test)], #eval_metric='RMSE',\n",
    "        early_stopping_rounds=50, verbose=False)\n",
    "# reg.fit(X_train,y_train,plot=True, verbose=False)\n",
    "pred = reg.predict(X_train)\n",
    "print(np.sqrt(mean_squared_error(y_train, pred)))\n",
    "pred_t = reg.predict(X_test)\n",
    "print(np.sqrt(mean_squared_error(y_test, pred_t)))"
   ]
  },
  {
   "cell_type": "code",
   "execution_count": 27,
   "id": "0e37fd02",
   "metadata": {},
   "outputs": [
    {
     "data": {
      "image/png": "[encoded data removed]",
      "text/plain": [
       "<Figure size 432x288 with 1 Axes>"
      ]
     },
     "metadata": {},
     "output_type": "display_data"
    }
   ],
   "source": [
    "from xgboost import XGBRegressor, plot_importance, XGBRFRegressor\n",
    "# params = {'n_estimators': 1000,\n",
    "#         'seed': 0, 'colsample_bytree': 0.5609381638923877, 'gamma': 1.1445734139912174, 'max_depth': 3, 'min_child_weight': 10.0, 'reg_alpha': 158.0, 'reg_lambda': 0.441079730155739}\n",
    "reg = XGBRegressor(n_estimators=1000, n_jobs=-1)\n",
    "# reg = CatBoostRegressor()\n",
    "reg.fit(X_train, y_train,\n",
    "        eval_set=[(X_train, y_train), (X_test, y_test)], eval_metric='rmse',\n",
    "        early_stopping_rounds=50,\n",
    "       verbose=False)\n",
    "\n",
    "_ = plot_importance(reg, height=0.9)"
   ]
  },
  {
   "cell_type": "code",
   "execution_count": 22,
   "id": "5754aa2e",
   "metadata": {},
   "outputs": [],
   "source": [
    "##test\n",
    "test_t = create_features(test, 'date', label=None)"
   ]
  },
  {
   "cell_type": "code",
   "execution_count": 28,
   "id": "db0657cb",
   "metadata": {},
   "outputs": [],
   "source": [
    "pred_t = reg.predict(test_t)"
   ]
  },
  {
   "cell_type": "code",
   "execution_count": 29,
   "id": "683f3d93",
   "metadata": {},
   "outputs": [],
   "source": [
    "test = pd.read_csv(\"test_6QvDdzb.csv\")\n",
    "# test.head()\n",
    "sub = pd.DataFrame()\n",
    "sub = test[['date', 'hour']]\n",
    "sub['demand'] = pred_t#p.round(np.expm1(np.maximum(reg.predict(test_t), 0.0)))\n",
    "sub.to_csv(f\"Submission_L{time.strftime('%Y%m%d_%H%M')}.csv\", index=False)"
   ]
  },
  {
   "cell_type": "code",
   "execution_count": 30,
   "id": "ec94d51c",
   "metadata": {},
   "outputs": [
    {
     "data": {
      "text/html": [
       "<div>\n",
       "<style scoped>\n",
       "    .dataframe tbody tr th:only-of-type {\n",
       "        vertical-align: middle;\n",
       "    }\n",
       "\n",
       "    .dataframe tbody tr th {\n",
       "        vertical-align: top;\n",
       "    }\n",
       "\n",
       "    .dataframe thead th {\n",
       "        text-align: right;\n",
       "    }\n",
       "</style>\n",
       "<table border=\"1\" class=\"dataframe\">\n",
       "  <thead>\n",
       "    <tr style=\"text-align: right;\">\n",
       "      <th></th>\n",
       "      <th>date</th>\n",
       "      <th>hour</th>\n",
       "      <th>demand</th>\n",
       "    </tr>\n",
       "  </thead>\n",
       "  <tbody>\n",
       "    <tr>\n",
       "      <th>0</th>\n",
       "      <td>2021-03-01</td>\n",
       "      <td>0</td>\n",
       "      <td>59.308830</td>\n",
       "    </tr>\n",
       "    <tr>\n",
       "      <th>1</th>\n",
       "      <td>2021-03-01</td>\n",
       "      <td>1</td>\n",
       "      <td>53.078922</td>\n",
       "    </tr>\n",
       "    <tr>\n",
       "      <th>2</th>\n",
       "      <td>2021-03-01</td>\n",
       "      <td>2</td>\n",
       "      <td>53.078922</td>\n",
       "    </tr>\n",
       "    <tr>\n",
       "      <th>3</th>\n",
       "      <td>2021-03-01</td>\n",
       "      <td>3</td>\n",
       "      <td>53.078922</td>\n",
       "    </tr>\n",
       "    <tr>\n",
       "      <th>4</th>\n",
       "      <td>2021-03-01</td>\n",
       "      <td>5</td>\n",
       "      <td>52.131901</td>\n",
       "    </tr>\n",
       "  </tbody>\n",
       "</table>\n",
       "</div>"
      ],
      "text/plain": [
       "         date  hour     demand\n",
       "0  2021-03-01     0  59.308830\n",
       "1  2021-03-01     1  53.078922\n",
       "2  2021-03-01     2  53.078922\n",
       "3  2021-03-01     3  53.078922\n",
       "4  2021-03-01     5  52.131901"
      ]
     },
     "execution_count": 30,
     "metadata": {},
     "output_type": "execute_result"
    }
   ],
   "source": [
    "sub.head()"
   ]
  },
  {
   "cell_type": "code",
   "execution_count": 45,
   "id": "87c6cf76",
   "metadata": {},
   "outputs": [],
   "source": [
    "x = pd.read_csv('submission_L20220424_1048_33.16.csv') #xgb\n",
    "y = pd.read_csv('submission_L20220424_1406_32.99_cbst.csv')#catboost\n",
    "z = pd.read_csv('submission_L20220424_1423_32.93_lgbm.csv')#lgbm feature engineered\n",
    "w = pd.read_csv('Submission_L20220424_1748_32.85_lgbm.csv')#lgbm feature engineered2"
   ]
  },
  {
   "cell_type": "code",
   "execution_count": 46,
   "id": "967fb004",
   "metadata": {},
   "outputs": [],
   "source": [
    "# mean = (z['demand']+y['demand']+w['demand'])/3 #32.77"
   ]
  },
  {
   "cell_type": "code",
   "execution_count": 47,
   "id": "7dff0133",
   "metadata": {},
   "outputs": [],
   "source": [
    "# mean = (z['demand']+w['demand'])/2 #32.78"
   ]
  },
  {
   "cell_type": "code",
   "execution_count": 48,
   "id": "f44ea87c",
   "metadata": {},
   "outputs": [],
   "source": [
    "from scipy.stats.mstats import gmean\n",
    "preds = pd.concat([x['demand'],y['demand'],z['demand'],w['demand']])\n",
    "preds = preds.groupby(level=0).apply(gmean)"
   ]
  },
  {
   "cell_type": "code",
   "execution_count": 49,
   "id": "88a7c4ae",
   "metadata": {},
   "outputs": [],
   "source": [
    "mean = (x['demand']+y['demand']+z['demand']+w['demand'])/4 #32.77\n",
    "import time\n",
    "\n",
    "test = pd.read_csv(\"test_6QvDdzb.csv\")\n",
    "# test.head()\n",
    "sub = pd.DataFrame()\n",
    "sub = test[['date', 'hour']]\n",
    "sub['demand'] = mean #preds #p.round(np.expm1(np.maximum(reg.predict(test_t), 0.0)))\n",
    "sub.to_csv(f\"gmsubmission_L{time.strftime('%Y%m%d_%H%M')}.csv\", index=False)"
   ]
  },
  {
   "cell_type": "code",
   "execution_count": 50,
   "id": "ef9c3837",
   "metadata": {},
   "outputs": [
    {
     "data": {
      "text/html": [
       "<div>\n",
       "<style scoped>\n",
       "    .dataframe tbody tr th:only-of-type {\n",
       "        vertical-align: middle;\n",
       "    }\n",
       "\n",
       "    .dataframe tbody tr th {\n",
       "        vertical-align: top;\n",
       "    }\n",
       "\n",
       "    .dataframe thead th {\n",
       "        text-align: right;\n",
       "    }\n",
       "</style>\n",
       "<table border=\"1\" class=\"dataframe\">\n",
       "  <thead>\n",
       "    <tr style=\"text-align: right;\">\n",
       "      <th></th>\n",
       "      <th>date</th>\n",
       "      <th>hour</th>\n",
       "      <th>demand</th>\n",
       "    </tr>\n",
       "  </thead>\n",
       "  <tbody>\n",
       "    <tr>\n",
       "      <th>0</th>\n",
       "      <td>2021-03-01</td>\n",
       "      <td>0</td>\n",
       "      <td>57.917243</td>\n",
       "    </tr>\n",
       "    <tr>\n",
       "      <th>1</th>\n",
       "      <td>2021-03-01</td>\n",
       "      <td>1</td>\n",
       "      <td>55.102404</td>\n",
       "    </tr>\n",
       "    <tr>\n",
       "      <th>2</th>\n",
       "      <td>2021-03-01</td>\n",
       "      <td>2</td>\n",
       "      <td>56.035368</td>\n",
       "    </tr>\n",
       "    <tr>\n",
       "      <th>3</th>\n",
       "      <td>2021-03-01</td>\n",
       "      <td>3</td>\n",
       "      <td>56.188246</td>\n",
       "    </tr>\n",
       "    <tr>\n",
       "      <th>4</th>\n",
       "      <td>2021-03-01</td>\n",
       "      <td>5</td>\n",
       "      <td>57.166387</td>\n",
       "    </tr>\n",
       "  </tbody>\n",
       "</table>\n",
       "</div>"
      ],
      "text/plain": [
       "         date  hour     demand\n",
       "0  2021-03-01     0  57.917243\n",
       "1  2021-03-01     1  55.102404\n",
       "2  2021-03-01     2  56.035368\n",
       "3  2021-03-01     3  56.188246\n",
       "4  2021-03-01     5  57.166387"
      ]
     },
     "execution_count": 50,
     "metadata": {},
     "output_type": "execute_result"
    }
   ],
   "source": [
    "sub.head()"
   ]
  }
 ],
 "metadata": {
  "kernelspec": {
   "display_name": "Python 3",
   "language": "python",
   "name": "python3"
  },
  "language_info": {
   "codemirror_mode": {
    "name": "ipython",
    "version": 3
   },
   "file_extension": ".py",
   "mimetype": "text/x-python",
   "name": "python",
   "nbconvert_exporter": "python",
   "pygments_lexer": "ipython3",
   "version": "3.8.8"
  }
 },
 "nbformat": 4,
 "nbformat_minor": 5
}
